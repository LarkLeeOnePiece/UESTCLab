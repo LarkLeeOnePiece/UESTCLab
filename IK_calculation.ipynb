{
 "cells": [
  {
   "cell_type": "code",
   "execution_count": 17,
   "metadata": {},
   "outputs": [
    {
     "name": "stdout",
     "output_type": "stream",
     "text": [
      "angle info(radians): theta1=-10.653964613368714, theta2=26.304112316194917\n",
      "angle info(degrees): theta1=109.5727925722448, theta2=67.11461955605705\n",
      "the end position: x=0.10000000009492283, y=0.29999999997116067\n"
     ]
    }
   ],
   "source": [
    "import numpy as np\n",
    "import math\n",
    "# paramters\n",
    "L1 = 0.3\n",
    "L2 = 0.3\n",
    "\n",
    "x_o=0.5\n",
    "y_o=0.0\n",
    "# target position\n",
    "x_g = 0.1\n",
    "y_g = 0.3\n",
    "\n",
    "#Forward kinematic function\n",
    "def forward_kinematics(theta1, theta2):\n",
    "    x = x_o+L1 * np.cos(theta1) + L2 * np.cos(theta1 + theta2)\n",
    "    y = y_o+L1 * np.sin(theta1) + L2 * np.sin(theta1 + theta2)\n",
    "    return np.array([x, y])\n",
    "\n",
    "# jacobian function\n",
    "def jacobian(theta1, theta2):\n",
    "    J11 = -L1 * np.sin(theta1) - L2 * np.sin(theta1 + theta2)\n",
    "    J12 = -L2 * np.sin(theta1 + theta2)\n",
    "    J21 = L1 * np.cos(theta1) + L2 * np.cos(theta1 + theta2)\n",
    "    J22 = L2 * np.cos(theta1 + theta2)\n",
    "    return np.array([[J11, J12], [J21, J22]])\n",
    "\n",
    "# inverse process \n",
    "def inverse_kinematics(target, initial_guess, tol=1e-6, max_iter=100):\n",
    "    theta = np.array(initial_guess, dtype=float)\n",
    "    for _ in range(max_iter):\n",
    "        current_pos = forward_kinematics(theta[0], theta[1])\n",
    "        error = target - current_pos\n",
    "        if np.linalg.norm(error) < tol:\n",
    "            break\n",
    "        J = jacobian(theta[0], theta[1])\n",
    "        dtheta = np.linalg.pinv(J) @ error\n",
    "        theta += dtheta\n",
    "    return theta\n",
    "\n",
    "# initial iteration angle\n",
    "initial_guess = [0.0, 0.0]\n",
    "\n",
    "# target position\n",
    "target = np.array([x_g, y_g])\n",
    "\n",
    "# calculation the angles via the kinematic\n",
    "theta1, theta2 = inverse_kinematics(target, initial_guess)\n",
    "\n",
    "# validate the result\n",
    "x, y = forward_kinematics(theta1, theta2)\n",
    "# get the degrees\n",
    "theta1_deg = math.degrees(theta1)\n",
    "theta2_deg = math.degrees(theta2)\n",
    "\n",
    "print(f\"angle info(radians): theta1={theta1}, theta2={theta2}\")\n",
    "print(f\"angle info(degrees): theta1={theta1_deg%360}, theta2={theta2_deg%360}\")\n",
    "print(f\"the end position: x={x}, y={y}\")\n"
   ]
  }
 ],
 "metadata": {
  "kernelspec": {
   "display_name": "pytorch",
   "language": "python",
   "name": "python3"
  },
  "language_info": {
   "codemirror_mode": {
    "name": "ipython",
    "version": 3
   },
   "file_extension": ".py",
   "mimetype": "text/x-python",
   "name": "python",
   "nbconvert_exporter": "python",
   "pygments_lexer": "ipython3",
   "version": "3.12.2"
  }
 },
 "nbformat": 4,
 "nbformat_minor": 2
}
